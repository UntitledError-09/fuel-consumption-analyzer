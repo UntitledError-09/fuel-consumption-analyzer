{
 "cells": [
  {
   "cell_type": "code",
   "execution_count": 11,
   "metadata": {
    "scrolled": false
   },
   "outputs": [],
   "source": [
    "import pandas as pd\n",
    "from sklearn.linear_model import LinearRegression\n",
    "import pickle\n",
    "\n",
    "df = pd.read_csv(\"FuelConsumption.csv\")\n",
    "#use required features\n",
    "cdf = df[['ENGINESIZE','CYLINDERS','FUELCONSUMPTION_COMB','CO2EMISSIONS']]\n",
    "\n",
    "#Training Data and Predictor Variable\n",
    "# Use all data for training (tarin-test-split not used)\n",
    "x = cdf.iloc[:, :3]\n",
    "y = cdf.iloc[:, -1]\n",
    "regressor = LinearRegression()\n",
    "\n",
    "#Fitting model with trainig data\n",
    "regressor.fit(x, y)\n",
    "\n",
    "# Saving model to current directory\n",
    "# Pickle serializes objects so they can be saved to a file, and loaded in a program again later on.\n",
    "pickle.dump(regressor, open('model.pkl','wb'))\n",
    "\n",
    "print(\"training complete\")"
   ]
  },
  {
   "cell_type": "code",
   "execution_count": 8,
   "metadata": {},
   "outputs": [
    {
     "name": "stdout",
     "output_type": "stream",
     "text": [
      "[164.13190405]\n"
     ]
    }
   ],
   "source": [
    "#Loading model to compare the results\n",
    "model = pickle.load(open('model.pkl','rb'))\n",
    "print(model.predict([[2.6, 8, 1.1]]))"
   ]
  },
  {
   "cell_type": "code",
   "execution_count": null,
   "metadata": {},
   "outputs": [],
   "source": []
  }
 ],
 "metadata": {
  "kernelspec": {
   "display_name": "Python 3",
   "language": "python",
   "name": "python3"
  },
  "language_info": {
   "codemirror_mode": {
    "name": "ipython",
    "version": 3
   },
   "file_extension": ".py",
   "mimetype": "text/x-python",
   "name": "python",
   "nbconvert_exporter": "python",
   "pygments_lexer": "ipython3",
   "version": "3.7.3"
  }
 },
 "nbformat": 4,
 "nbformat_minor": 2
}
